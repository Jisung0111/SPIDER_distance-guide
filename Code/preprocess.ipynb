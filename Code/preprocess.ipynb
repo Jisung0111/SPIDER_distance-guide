{
 "cells": [
  {
   "cell_type": "code",
   "execution_count": null,
   "metadata": {},
   "outputs": [],
   "source": [
    "# to be able to check immediate result of images while preprocessing.\n",
    "import torch\n",
    "import numpy"
   ]
  }
 ],
 "metadata": {
  "kernelspec": {
   "display_name": "Python 3.9.12 ('base': conda)",
   "language": "python",
   "name": "python3"
  },
  "language_info": {
   "name": "python",
   "version": "3.9.12"
  },
  "orig_nbformat": 4,
  "vscode": {
   "interpreter": {
    "hash": "182160f4d55ec8bd79c76cf9c0addd86755aa0020cca57bf6f0bf05273331b4e"
   }
  }
 },
 "nbformat": 4,
 "nbformat_minor": 2
}
